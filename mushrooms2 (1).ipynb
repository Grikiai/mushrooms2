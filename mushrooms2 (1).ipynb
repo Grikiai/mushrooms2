{
  "nbformat": 4,
  "nbformat_minor": 0,
  "metadata": {
    "kernelspec": {
      "name": "python36",
      "display_name": "Python 3.6",
      "language": "python"
    },
    "language_info": {
      "mimetype": "text/x-python",
      "nbconvert_exporter": "python",
      "name": "python",
      "pygments_lexer": "ipython3",
      "version": "3.6.6",
      "file_extension": ".py",
      "codemirror_mode": {
        "version": 3,
        "name": "ipython"
      }
    },
    "colab": {
      "name": "mushrooms2.ipynb",
      "provenance": [],
      "collapsed_sections": []
    }
  },
  "cells": [
    {
      "cell_type": "markdown",
      "metadata": {
        "id": "8Atdef7JLHmd",
        "colab_type": "text"
      },
      "source": [
        "# Recap on the data"
      ]
    },
    {
      "cell_type": "markdown",
      "metadata": {
        "id": "tvtmr1kjK_kp",
        "colab_type": "text"
      },
      "source": [
        "The following dataset was obtained from kaggle.com ([dataset link](https://www.kaggle.com/uciml/mushroom-classification)). According to kaggle, this dataset was donated to donated to UCI Machine Learning  in 27 April 1987, which makes this data set almost 30 years old. \n",
        "\n",
        "This set consists of **23** features of mushrooms from **Agaricus and Lepiota Family**. \n",
        "\n",
        "All data is categorical with some missing values (particularly in the 'stalk-root' column). \n",
        "\n",
        "Alltogether, there are **8124** mushrooms classified"
      ]
    },
    {
      "cell_type": "markdown",
      "metadata": {
        "id": "lHJlnJ3mKnaH",
        "colab_type": "text"
      },
      "source": [
        "## Table Legend\n",
        "According to UCL ML, the table data is coded as follows:\n",
        "\n",
        "* Class: edible =e,poisonous=p \n",
        "* Cap-shape: bell=b,conical=c,convex=x,flat=f, knobbed=k,sunken=s \n",
        "* Cap-surface: fibrous=f,grooves=g,scaly=y,smooth=s \n",
        "* Cap-color: brown=n,buff=b,cinnamon=c,gray=g,green=r, pink=p,purple=u,red=e,white=w,yellow=y \n",
        "* Bruises?: bruises=t,no=f \n",
        "* Odor: almond=a,anise=l,creosote=c,fishy=y,foul=f, musty=m,none=n,pungent=p,spicy=s \n",
        "* Gill-attachment: attached=a,descending=d,free=f,notched=n \n",
        "* Gill-spacing: close=c,crowded=w,distant=d \n",
        "* Gill-size: broad=b,narrow=n \n",
        "* Gill-color: black=k,brown=n,buff=b,chocolate=h,gray=g, green=r,orange=o,pink=p,purple=u,red=e, white=w,yellow=y \n",
        "* Stalk-shape: enlarging=e,tapering=t \n",
        "* Stalk-root: bulbous=b,club=c,cup=u,equal=e, rhizomorphs=z,rooted=r,missing=? \n",
        "* Stalk-surface-above-ring: fibrous=f,scaly=y,silky=k,smooth=s \n",
        "* Stalk-surface-below-ring: fibrous=f,scaly=y,silky=k,smooth=s \n",
        "* Stalk-color-above-ring: brown=n,buff=b,cinnamon=c,gray=g,orange=o, pink=p,red=e,white=w,yellow=y \n",
        "* Stalk-color-below-ring: brown=n,buff=b,cinnamon=c,gray=g,orange=o, pink=p,red=e,white=w,yellow=y \n",
        "* Veil-type: partial=p,universal=u \n",
        "* Veil-color: brown=n,orange=o,white=w,yellow=y \n",
        "* Ring-number: none=n,one=o,two=t \n",
        "* Ring-type: cobwebby=c,evanescent=e,flaring=f,large=l, none=n,pendant=p,sheathing=s,zone=z \n",
        "* Spore-print-color: black=k,brown=n,buff=b,chocolate=h,green=r, orange=o,purple=u,white=w,yellow=y \n",
        "* Population: abundant=a,clustered=c,numerous=n, scattered=s,several=v,solitary=y \n",
        "* Habitat: grasses=g,leaves=l,meadows=m,paths=p, urban=u,waste=w,woods=d\n"
      ]
    },
    {
      "cell_type": "markdown",
      "metadata": {
        "id": "VcXl8kXeLR-p",
        "colab_type": "text"
      },
      "source": [
        "## Conclusions from previous project\n",
        "* Most mushrooms without smell are edible\n",
        "* Most mushrooms with smell are poisonous\n",
        "* Contrary to the intuitive, the mushrooms in wastelands don't stink\n",
        "* The biggest proportion of smelly/non-smelly mushrooms can be found in paths, which means that mushrooms in paths stink\n",
        "* There can be found color differences between poisonous and edible mushrooms with regards to rgb coordinates, the difference is too small or definite to have an actual practical value\n",
        "\n",
        "Future notes:\n",
        "* Use different regrouping tactic to differenciate between mushroom colors \n",
        "* Look into whole mushroom color schema"
      ]
    },
    {
      "cell_type": "markdown",
      "metadata": {
        "id": "-VJ5U2yCLfmB",
        "colab_type": "text"
      },
      "source": [
        "## Problems with kaggle kernels:\n",
        "* Label encoding and then scaling???????????????????????\n",
        "\n"
      ]
    },
    {
      "cell_type": "markdown",
      "metadata": {
        "id": "VzMuECP4MCrK",
        "colab_type": "text"
      },
      "source": [
        "## Current project aims to:\n",
        "* to some degree, properly handle the data\n",
        "* find important features\n",
        "* find at least some meaningfull insights with arbitrary feature engineering\n",
        "* make some reusable functions that i can use later in life\n"
      ]
    },
    {
      "cell_type": "code",
      "metadata": {
        "id": "uEv1FY3i8vj7",
        "colab_type": "code",
        "outputId": "1932297d-7954-4892-fcf2-60d6d6abc3ae",
        "trusted": false,
        "colab": {
          "base_uri": "https://localhost:8080/",
          "height": 34
        }
      },
      "source": [
        "from google.colab import drive\n",
        "drive.mount('/content/drive')"
      ],
      "execution_count": 466,
      "outputs": [
        {
          "output_type": "stream",
          "text": [
            "Drive already mounted at /content/drive; to attempt to forcibly remount, call drive.mount(\"/content/drive\", force_remount=True).\n"
          ],
          "name": "stdout"
        }
      ]
    },
    {
      "cell_type": "code",
      "metadata": {
        "trusted": true,
        "id": "cnydOdFy8pzB",
        "colab_type": "code",
        "outputId": "940190ff-52c9-480c-ef4a-63aa35f840d8",
        "colab": {
          "base_uri": "https://localhost:8080/",
          "height": 34
        }
      },
      "source": [
        "# this was usefull when working in azure\n",
        "import sklearn\n",
        "print('The scikit-learn version is {}.'.format(sklearn.__version__))"
      ],
      "execution_count": 467,
      "outputs": [
        {
          "output_type": "stream",
          "text": [
            "The scikit-learn version is 0.22.1.\n"
          ],
          "name": "stdout"
        }
      ]
    },
    {
      "cell_type": "code",
      "metadata": {
        "trusted": true,
        "id": "fHuzF_DY8pzH",
        "colab_type": "code",
        "outputId": "55e9eb53-46b8-413a-de13-97b8950611c9",
        "colab": {
          "base_uri": "https://localhost:8080/",
          "height": 34
        }
      },
      "source": [
        "#importing everything i need\n",
        "import pandas as pd\n",
        "import numpy as np\n",
        "import itertools\n",
        "from sklearn import metrics\n",
        "import math\n",
        "\n",
        "\n",
        "import matplotlib.pyplot as plt\n",
        "import seaborn as sns\n",
        "from IPython.display import display\n",
        "\n",
        "from sklearn.ensemble import RandomForestClassifier\n",
        "from sklearn.linear_model import LogisticRegression\n",
        "from sklearn.cluster import KMeans\n",
        "\n",
        "from sklearn.compose import ColumnTransformer\n",
        "from sklearn.pipeline import Pipeline\n",
        "from sklearn.impute import SimpleImputer\n",
        "from sklearn.preprocessing import OneHotEncoder\n",
        "from sklearn.preprocessing import StandardScaler\n",
        "\n",
        "from sklearn.metrics import classification_report, confusion_matrix\n",
        "from sklearn.metrics import jaccard_similarity_score\n",
        "from sklearn.model_selection import train_test_split, GridSearchCV, cross_val_score\n",
        "\n",
        "\n",
        "print('setup complete')"
      ],
      "execution_count": 475,
      "outputs": [
        {
          "output_type": "stream",
          "text": [
            "setup complete\n"
          ],
          "name": "stdout"
        }
      ]
    },
    {
      "cell_type": "code",
      "metadata": {
        "trusted": true,
        "id": "_qQXrPNE8pzM",
        "colab_type": "code",
        "colab": {}
      },
      "source": [
        "#important dunctions\n",
        "\n",
        "#the following functions are taken from fastai library\n",
        "def rf_feat_importance(m, df):\n",
        "  return pd.DataFrame({'cols':df.columns, 'imp':m.feature_importances_}).sort_values('imp', ascending=False)\n",
        "\n",
        "def display_all(df):\n",
        "  with pd.option_context(\"display.max_rows\", 1000, \"display.max_columns\", 1000): display(df)\n",
        "\n",
        "def interactions(data, features):\n",
        "  interact = pd.DataFrame(index=data.index)\n",
        "  for col1, col2 in itertools.combinations(features, 2):\n",
        "    new_col_name = '_'.join([col1, col2])\n",
        "    new_values = data[col1].map(str) + \"_\" + data[col2].map(str)\n",
        "    interact[new_col_name] = new_values\n",
        "  return interact\n",
        "\n",
        "\n",
        "# spliting when you want to have train, validations and test set as well\n",
        "def spliting_data(X, y):\n",
        "   X_train, X_test, y_train, y_test = train_test_split(X, y, test_size=0.2, random_state=1)\n",
        "   X_train, X_val, y_train, y_val = train_test_split(X_train, y_train, test_size=0.2, random_state=1)\n",
        "   return X_train, X_val, y_train, y_val, X_test, y_test \n",
        "\n",
        "#this function is made to be reused when working both with random forests and linear models - do_cats_only = True is required for linear models before scaling\n",
        "def apply_codes(df, cat_cols = None, do_cats_only = True):\n",
        "  if cat_cols is None:\n",
        "    df = df.astype('category')   \n",
        "    df = df.cat.codes\n",
        "  else:\n",
        "    df[cat_cols] = df[cat_cols].apply(lambda x: x.astype('category'))\n",
        "    if do_cats_only is not True:\n",
        "      df[cat_cols] = df[cat_cols].apply(lambda x: x.cat.codes)\n",
        "  return df\n",
        "\n",
        "\n",
        "#this is a pipeline function that makes a transformer for your need, just input your categorical and/or numerical column names\n",
        "def pipeline(num_feat = None, cat_feat = None):\n",
        "  if num_feat is None:\n",
        "    if cat_feat is None:\n",
        "      print('ummmm pls input at least some columns')\n",
        "    else:\n",
        "      categorical_transformer = Pipeline(steps=[('imputer', SimpleImputer(strategy='constant', fill_value='missing')),\n",
        "                                                ('onehot', OneHotEncoder(handle_unknown='ignore'))])\n",
        "      preprocessor = ColumnTransformer(transformers=[('cat', categorical_transformer, cat_feat)])\n",
        "      return preprocessor\n",
        "  else:\n",
        "    if cat_feat is None:\n",
        "      numeric_transformer = Pipeline(steps=[('imputer', SimpleImputer(strategy='median')),\n",
        "                                            ('scaler', StandardScaler())])\n",
        "      preprocessor = ColumnTransformer(transformers=[('num', numeric_transformer, num_feat)])\n",
        "      return preprocessor\n",
        "    else:\n",
        "      numeric_transformer = Pipeline(steps=[('imputer', SimpleImputer(strategy='median')),\n",
        "                                            ('scaler', StandardScaler())])\n",
        "      categorical_transformer = Pipeline(steps=[('imputer', SimpleImputer(strategy='constant', fill_value='missing')),\n",
        "                                                ('onehot', OneHotEncoder(handle_unknown='ignore'))])\n",
        "      preprocessor = ColumnTransformer(transformers=[('num', numeric_transformer, num_feat),\n",
        "                                                     ('cat', categorical_transformer, cat_feat)])\n",
        "      return preprocessor\n"
      ],
      "execution_count": 0,
      "outputs": []
    },
    {
      "cell_type": "markdown",
      "metadata": {
        "id": "fnY5q5rfPu9s",
        "colab_type": "text"
      },
      "source": [
        "# Short Data Analysis"
      ]
    },
    {
      "cell_type": "code",
      "metadata": {
        "trusted": true,
        "id": "9RMavKQ78pzW",
        "colab_type": "code",
        "outputId": "6be89d7f-7873-4fc3-b538-190419768f8f",
        "colab": {
          "base_uri": "https://localhost:8080/",
          "height": 255
        }
      },
      "source": [
        "full_data = pd.read_csv('/content/drive/My Drive/projectML/mushrooms.csv')\n",
        "full_data.head()"
      ],
      "execution_count": 494,
      "outputs": [
        {
          "output_type": "execute_result",
          "data": {
            "text/html": [
              "<div>\n",
              "<style scoped>\n",
              "    .dataframe tbody tr th:only-of-type {\n",
              "        vertical-align: middle;\n",
              "    }\n",
              "\n",
              "    .dataframe tbody tr th {\n",
              "        vertical-align: top;\n",
              "    }\n",
              "\n",
              "    .dataframe thead th {\n",
              "        text-align: right;\n",
              "    }\n",
              "</style>\n",
              "<table border=\"1\" class=\"dataframe\">\n",
              "  <thead>\n",
              "    <tr style=\"text-align: right;\">\n",
              "      <th></th>\n",
              "      <th>class</th>\n",
              "      <th>cap-shape</th>\n",
              "      <th>cap-surface</th>\n",
              "      <th>cap-color</th>\n",
              "      <th>bruises</th>\n",
              "      <th>odor</th>\n",
              "      <th>gill-attachment</th>\n",
              "      <th>gill-spacing</th>\n",
              "      <th>gill-size</th>\n",
              "      <th>gill-color</th>\n",
              "      <th>stalk-shape</th>\n",
              "      <th>stalk-root</th>\n",
              "      <th>stalk-surface-above-ring</th>\n",
              "      <th>stalk-surface-below-ring</th>\n",
              "      <th>stalk-color-above-ring</th>\n",
              "      <th>stalk-color-below-ring</th>\n",
              "      <th>veil-type</th>\n",
              "      <th>veil-color</th>\n",
              "      <th>ring-number</th>\n",
              "      <th>ring-type</th>\n",
              "      <th>spore-print-color</th>\n",
              "      <th>population</th>\n",
              "      <th>habitat</th>\n",
              "    </tr>\n",
              "  </thead>\n",
              "  <tbody>\n",
              "    <tr>\n",
              "      <th>0</th>\n",
              "      <td>p</td>\n",
              "      <td>x</td>\n",
              "      <td>s</td>\n",
              "      <td>n</td>\n",
              "      <td>t</td>\n",
              "      <td>p</td>\n",
              "      <td>f</td>\n",
              "      <td>c</td>\n",
              "      <td>n</td>\n",
              "      <td>k</td>\n",
              "      <td>e</td>\n",
              "      <td>e</td>\n",
              "      <td>s</td>\n",
              "      <td>s</td>\n",
              "      <td>w</td>\n",
              "      <td>w</td>\n",
              "      <td>p</td>\n",
              "      <td>w</td>\n",
              "      <td>o</td>\n",
              "      <td>p</td>\n",
              "      <td>k</td>\n",
              "      <td>s</td>\n",
              "      <td>u</td>\n",
              "    </tr>\n",
              "    <tr>\n",
              "      <th>1</th>\n",
              "      <td>e</td>\n",
              "      <td>x</td>\n",
              "      <td>s</td>\n",
              "      <td>y</td>\n",
              "      <td>t</td>\n",
              "      <td>a</td>\n",
              "      <td>f</td>\n",
              "      <td>c</td>\n",
              "      <td>b</td>\n",
              "      <td>k</td>\n",
              "      <td>e</td>\n",
              "      <td>c</td>\n",
              "      <td>s</td>\n",
              "      <td>s</td>\n",
              "      <td>w</td>\n",
              "      <td>w</td>\n",
              "      <td>p</td>\n",
              "      <td>w</td>\n",
              "      <td>o</td>\n",
              "      <td>p</td>\n",
              "      <td>n</td>\n",
              "      <td>n</td>\n",
              "      <td>g</td>\n",
              "    </tr>\n",
              "    <tr>\n",
              "      <th>2</th>\n",
              "      <td>e</td>\n",
              "      <td>b</td>\n",
              "      <td>s</td>\n",
              "      <td>w</td>\n",
              "      <td>t</td>\n",
              "      <td>l</td>\n",
              "      <td>f</td>\n",
              "      <td>c</td>\n",
              "      <td>b</td>\n",
              "      <td>n</td>\n",
              "      <td>e</td>\n",
              "      <td>c</td>\n",
              "      <td>s</td>\n",
              "      <td>s</td>\n",
              "      <td>w</td>\n",
              "      <td>w</td>\n",
              "      <td>p</td>\n",
              "      <td>w</td>\n",
              "      <td>o</td>\n",
              "      <td>p</td>\n",
              "      <td>n</td>\n",
              "      <td>n</td>\n",
              "      <td>m</td>\n",
              "    </tr>\n",
              "    <tr>\n",
              "      <th>3</th>\n",
              "      <td>p</td>\n",
              "      <td>x</td>\n",
              "      <td>y</td>\n",
              "      <td>w</td>\n",
              "      <td>t</td>\n",
              "      <td>p</td>\n",
              "      <td>f</td>\n",
              "      <td>c</td>\n",
              "      <td>n</td>\n",
              "      <td>n</td>\n",
              "      <td>e</td>\n",
              "      <td>e</td>\n",
              "      <td>s</td>\n",
              "      <td>s</td>\n",
              "      <td>w</td>\n",
              "      <td>w</td>\n",
              "      <td>p</td>\n",
              "      <td>w</td>\n",
              "      <td>o</td>\n",
              "      <td>p</td>\n",
              "      <td>k</td>\n",
              "      <td>s</td>\n",
              "      <td>u</td>\n",
              "    </tr>\n",
              "    <tr>\n",
              "      <th>4</th>\n",
              "      <td>e</td>\n",
              "      <td>x</td>\n",
              "      <td>s</td>\n",
              "      <td>g</td>\n",
              "      <td>f</td>\n",
              "      <td>n</td>\n",
              "      <td>f</td>\n",
              "      <td>w</td>\n",
              "      <td>b</td>\n",
              "      <td>k</td>\n",
              "      <td>t</td>\n",
              "      <td>e</td>\n",
              "      <td>s</td>\n",
              "      <td>s</td>\n",
              "      <td>w</td>\n",
              "      <td>w</td>\n",
              "      <td>p</td>\n",
              "      <td>w</td>\n",
              "      <td>o</td>\n",
              "      <td>e</td>\n",
              "      <td>n</td>\n",
              "      <td>a</td>\n",
              "      <td>g</td>\n",
              "    </tr>\n",
              "  </tbody>\n",
              "</table>\n",
              "</div>"
            ],
            "text/plain": [
              "  class cap-shape cap-surface  ... spore-print-color population habitat\n",
              "0     p         x           s  ...                 k          s       u\n",
              "1     e         x           s  ...                 n          n       g\n",
              "2     e         b           s  ...                 n          n       m\n",
              "3     p         x           y  ...                 k          s       u\n",
              "4     e         x           s  ...                 n          a       g\n",
              "\n",
              "[5 rows x 23 columns]"
            ]
          },
          "metadata": {
            "tags": []
          },
          "execution_count": 494
        }
      ]
    },
    {
      "cell_type": "code",
      "metadata": {
        "trusted": true,
        "id": "RmoVwx0f8pzb",
        "colab_type": "code",
        "outputId": "20c3bf76-b08c-4039-a367-92a7965b9701",
        "colab": {
          "base_uri": "https://localhost:8080/",
          "height": 34
        }
      },
      "source": [
        "full_data.shape"
      ],
      "execution_count": 495,
      "outputs": [
        {
          "output_type": "execute_result",
          "data": {
            "text/plain": [
              "(8124, 23)"
            ]
          },
          "metadata": {
            "tags": []
          },
          "execution_count": 495
        }
      ]
    },
    {
      "cell_type": "code",
      "metadata": {
        "trusted": true,
        "id": "hBR43_nV8p07",
        "colab_type": "code",
        "outputId": "a5deb9bb-ca2a-42f6-986f-43de0ff49955",
        "colab": {
          "base_uri": "https://localhost:8080/",
          "height": 224
        }
      },
      "source": [
        "display_all(full_data.describe())"
      ],
      "execution_count": 496,
      "outputs": [
        {
          "output_type": "display_data",
          "data": {
            "text/html": [
              "<div>\n",
              "<style scoped>\n",
              "    .dataframe tbody tr th:only-of-type {\n",
              "        vertical-align: middle;\n",
              "    }\n",
              "\n",
              "    .dataframe tbody tr th {\n",
              "        vertical-align: top;\n",
              "    }\n",
              "\n",
              "    .dataframe thead th {\n",
              "        text-align: right;\n",
              "    }\n",
              "</style>\n",
              "<table border=\"1\" class=\"dataframe\">\n",
              "  <thead>\n",
              "    <tr style=\"text-align: right;\">\n",
              "      <th></th>\n",
              "      <th>class</th>\n",
              "      <th>cap-shape</th>\n",
              "      <th>cap-surface</th>\n",
              "      <th>cap-color</th>\n",
              "      <th>bruises</th>\n",
              "      <th>odor</th>\n",
              "      <th>gill-attachment</th>\n",
              "      <th>gill-spacing</th>\n",
              "      <th>gill-size</th>\n",
              "      <th>gill-color</th>\n",
              "      <th>stalk-shape</th>\n",
              "      <th>stalk-root</th>\n",
              "      <th>stalk-surface-above-ring</th>\n",
              "      <th>stalk-surface-below-ring</th>\n",
              "      <th>stalk-color-above-ring</th>\n",
              "      <th>stalk-color-below-ring</th>\n",
              "      <th>veil-type</th>\n",
              "      <th>veil-color</th>\n",
              "      <th>ring-number</th>\n",
              "      <th>ring-type</th>\n",
              "      <th>spore-print-color</th>\n",
              "      <th>population</th>\n",
              "      <th>habitat</th>\n",
              "    </tr>\n",
              "  </thead>\n",
              "  <tbody>\n",
              "    <tr>\n",
              "      <th>count</th>\n",
              "      <td>8124</td>\n",
              "      <td>8124</td>\n",
              "      <td>8124</td>\n",
              "      <td>8124</td>\n",
              "      <td>8124</td>\n",
              "      <td>8124</td>\n",
              "      <td>8124</td>\n",
              "      <td>8124</td>\n",
              "      <td>8124</td>\n",
              "      <td>8124</td>\n",
              "      <td>8124</td>\n",
              "      <td>8124</td>\n",
              "      <td>8124</td>\n",
              "      <td>8124</td>\n",
              "      <td>8124</td>\n",
              "      <td>8124</td>\n",
              "      <td>8124</td>\n",
              "      <td>8124</td>\n",
              "      <td>8124</td>\n",
              "      <td>8124</td>\n",
              "      <td>8124</td>\n",
              "      <td>8124</td>\n",
              "      <td>8124</td>\n",
              "    </tr>\n",
              "    <tr>\n",
              "      <th>unique</th>\n",
              "      <td>2</td>\n",
              "      <td>6</td>\n",
              "      <td>4</td>\n",
              "      <td>10</td>\n",
              "      <td>2</td>\n",
              "      <td>9</td>\n",
              "      <td>2</td>\n",
              "      <td>2</td>\n",
              "      <td>2</td>\n",
              "      <td>12</td>\n",
              "      <td>2</td>\n",
              "      <td>5</td>\n",
              "      <td>4</td>\n",
              "      <td>4</td>\n",
              "      <td>9</td>\n",
              "      <td>9</td>\n",
              "      <td>1</td>\n",
              "      <td>4</td>\n",
              "      <td>3</td>\n",
              "      <td>5</td>\n",
              "      <td>9</td>\n",
              "      <td>6</td>\n",
              "      <td>7</td>\n",
              "    </tr>\n",
              "    <tr>\n",
              "      <th>top</th>\n",
              "      <td>e</td>\n",
              "      <td>x</td>\n",
              "      <td>y</td>\n",
              "      <td>n</td>\n",
              "      <td>f</td>\n",
              "      <td>n</td>\n",
              "      <td>f</td>\n",
              "      <td>c</td>\n",
              "      <td>b</td>\n",
              "      <td>b</td>\n",
              "      <td>t</td>\n",
              "      <td>b</td>\n",
              "      <td>s</td>\n",
              "      <td>s</td>\n",
              "      <td>w</td>\n",
              "      <td>w</td>\n",
              "      <td>p</td>\n",
              "      <td>w</td>\n",
              "      <td>o</td>\n",
              "      <td>p</td>\n",
              "      <td>w</td>\n",
              "      <td>v</td>\n",
              "      <td>d</td>\n",
              "    </tr>\n",
              "    <tr>\n",
              "      <th>freq</th>\n",
              "      <td>4208</td>\n",
              "      <td>3656</td>\n",
              "      <td>3244</td>\n",
              "      <td>2284</td>\n",
              "      <td>4748</td>\n",
              "      <td>3528</td>\n",
              "      <td>7914</td>\n",
              "      <td>6812</td>\n",
              "      <td>5612</td>\n",
              "      <td>1728</td>\n",
              "      <td>4608</td>\n",
              "      <td>3776</td>\n",
              "      <td>5176</td>\n",
              "      <td>4936</td>\n",
              "      <td>4464</td>\n",
              "      <td>4384</td>\n",
              "      <td>8124</td>\n",
              "      <td>7924</td>\n",
              "      <td>7488</td>\n",
              "      <td>3968</td>\n",
              "      <td>2388</td>\n",
              "      <td>4040</td>\n",
              "      <td>3148</td>\n",
              "    </tr>\n",
              "  </tbody>\n",
              "</table>\n",
              "</div>"
            ],
            "text/plain": [
              "       class cap-shape cap-surface cap-color bruises  odor gill-attachment  \\\n",
              "count   8124      8124        8124      8124    8124  8124            8124   \n",
              "unique     2         6           4        10       2     9               2   \n",
              "top        e         x           y         n       f     n               f   \n",
              "freq    4208      3656        3244      2284    4748  3528            7914   \n",
              "\n",
              "       gill-spacing gill-size gill-color stalk-shape stalk-root  \\\n",
              "count          8124      8124       8124        8124       8124   \n",
              "unique            2         2         12           2          5   \n",
              "top               c         b          b           t          b   \n",
              "freq           6812      5612       1728        4608       3776   \n",
              "\n",
              "       stalk-surface-above-ring stalk-surface-below-ring  \\\n",
              "count                      8124                     8124   \n",
              "unique                        4                        4   \n",
              "top                           s                        s   \n",
              "freq                       5176                     4936   \n",
              "\n",
              "       stalk-color-above-ring stalk-color-below-ring veil-type veil-color  \\\n",
              "count                    8124                   8124      8124       8124   \n",
              "unique                      9                      9         1          4   \n",
              "top                         w                      w         p          w   \n",
              "freq                     4464                   4384      8124       7924   \n",
              "\n",
              "       ring-number ring-type spore-print-color population habitat  \n",
              "count         8124      8124              8124       8124    8124  \n",
              "unique           3         5                 9          6       7  \n",
              "top              o         p                 w          v       d  \n",
              "freq          7488      3968              2388       4040    3148  "
            ]
          },
          "metadata": {
            "tags": []
          }
        }
      ]
    },
    {
      "cell_type": "code",
      "metadata": {
        "id": "lADU2SbDQBDQ",
        "colab_type": "code",
        "colab": {
          "base_uri": "https://localhost:8080/",
          "height": 34
        },
        "outputId": "1f59f8aa-ed87-49f1-e1bd-2e6e10907795"
      },
      "source": [
        "full_data.isnull().any().sum()"
      ],
      "execution_count": 497,
      "outputs": [
        {
          "output_type": "execute_result",
          "data": {
            "text/plain": [
              "0"
            ]
          },
          "metadata": {
            "tags": []
          },
          "execution_count": 497
        }
      ]
    },
    {
      "cell_type": "markdown",
      "metadata": {
        "id": "Sjjf9eosQfiz",
        "colab_type": "text"
      },
      "source": [
        "# Lets Get Right to the model\n",
        "* lets chose random forrest baseline model and see how it does\n",
        "*for convenient purposes lets not do one hot encoding right now, random forests can handle that\n"
      ]
    },
    {
      "cell_type": "code",
      "metadata": {
        "id": "UAgEsY8jQCqI",
        "colab_type": "code",
        "colab": {}
      },
      "source": [
        "# X and y\n",
        "y = full_data['class']\n",
        "X = full_data.drop(columns = 'class')"
      ],
      "execution_count": 0,
      "outputs": []
    },
    {
      "cell_type": "code",
      "metadata": {
        "id": "exNwFZQuQC8A",
        "colab_type": "code",
        "colab": {
          "base_uri": "https://localhost:8080/",
          "height": 34
        },
        "outputId": "81fa0cf5-2860-4893-f384-a3ac632efa9c"
      },
      "source": [
        "X.shape, y.shape"
      ],
      "execution_count": 507,
      "outputs": [
        {
          "output_type": "execute_result",
          "data": {
            "text/plain": [
              "((8124, 22), (8124,))"
            ]
          },
          "metadata": {
            "tags": []
          },
          "execution_count": 507
        }
      ]
    },
    {
      "cell_type": "code",
      "metadata": {
        "id": "L7D1PhEPQDOo",
        "colab_type": "code",
        "colab": {}
      },
      "source": [
        "# cat column recoding\n",
        "X = apply_codes(X, cat_cols = list(X.columns.values), do_cats_only = False)\n",
        "y = apply_codes(y)"
      ],
      "execution_count": 0,
      "outputs": []
    },
    {
      "cell_type": "code",
      "metadata": {
        "id": "IGcJV3t-UB37",
        "colab_type": "code",
        "colab": {
          "base_uri": "https://localhost:8080/",
          "height": 408
        },
        "outputId": "f82f10c8-747d-4783-8250-36324778a1fa"
      },
      "source": [
        "X.dtypes"
      ],
      "execution_count": 528,
      "outputs": [
        {
          "output_type": "execute_result",
          "data": {
            "text/plain": [
              "cap-shape                   int8\n",
              "cap-surface                 int8\n",
              "cap-color                   int8\n",
              "bruises                     int8\n",
              "odor                        int8\n",
              "gill-attachment             int8\n",
              "gill-spacing                int8\n",
              "gill-size                   int8\n",
              "gill-color                  int8\n",
              "stalk-shape                 int8\n",
              "stalk-root                  int8\n",
              "stalk-surface-above-ring    int8\n",
              "stalk-surface-below-ring    int8\n",
              "stalk-color-above-ring      int8\n",
              "stalk-color-below-ring      int8\n",
              "veil-type                   int8\n",
              "veil-color                  int8\n",
              "ring-number                 int8\n",
              "ring-type                   int8\n",
              "spore-print-color           int8\n",
              "population                  int8\n",
              "habitat                     int8\n",
              "dtype: object"
            ]
          },
          "metadata": {
            "tags": []
          },
          "execution_count": 528
        }
      ]
    },
    {
      "cell_type": "code",
      "metadata": {
        "id": "wnMv1r6-QDfw",
        "colab_type": "code",
        "colab": {
          "base_uri": "https://localhost:8080/",
          "height": 34
        },
        "outputId": "774e5a4a-d825-482a-c77f-668a3dbd5a71"
      },
      "source": [
        "# train test split\n",
        "X_train, X_val, y_train, y_val, _, _ = spliting_data(X, y)\n",
        "X_train.shape, X_val.shape, y_train.shape, y_val.shape"
      ],
      "execution_count": 529,
      "outputs": [
        {
          "output_type": "execute_result",
          "data": {
            "text/plain": [
              "((5199, 22), (1300, 22), (5199,), (1300,))"
            ]
          },
          "metadata": {
            "tags": []
          },
          "execution_count": 529
        }
      ]
    },
    {
      "cell_type": "code",
      "metadata": {
        "id": "dx1xlPLvUFwo",
        "colab_type": "code",
        "colab": {}
      },
      "source": [
        "baseline_forest = RandomForestClassifier()\n",
        "baseline_forest.fit(X_train,y_train)\n",
        "# predictions\n",
        "baseline_forest_predict = baseline_forest.predict(X_val)"
      ],
      "execution_count": 0,
      "outputs": []
    },
    {
      "cell_type": "markdown",
      "metadata": {
        "id": "etHn9A2_U69Y",
        "colab_type": "text"
      },
      "source": [
        "# We have a baseline forrest now! lets evaluate"
      ]
    },
    {
      "cell_type": "code",
      "metadata": {
        "id": "CWtKH87GWZBn",
        "colab_type": "code",
        "colab": {}
      },
      "source": [
        "#ill use just the training data for folds\n",
        "scores = cross_val_score(baseline_forest, X_train, y_train, cv= 10,scoring='roc_auc')"
      ],
      "execution_count": 0,
      "outputs": []
    },
    {
      "cell_type": "code",
      "metadata": {
        "id": "mYM-fTSmVG02",
        "colab_type": "code",
        "colab": {
          "base_uri": "https://localhost:8080/",
          "height": 408
        },
        "outputId": "2e31df65-3b6c-4f7c-fe10-375b91f15262"
      },
      "source": [
        "print(\"=== Confusion Matrix ===\")\n",
        "print(confusion_matrix(y_val, baseline_forest_predict))\n",
        "print('\\n')\n",
        "print(\"=== Classification Report ===\")\n",
        "print(classification_report(y_val, baseline_forest_predict))\n",
        "print('\\n')\n",
        "print(\"=== All AUC Scores ===\")\n",
        "print(scores)\n",
        "print('\\n')\n",
        "print(\"=== Mean AUC Score ===\")\n",
        "print(\"Mean AUC Score - Random Forest: \", scores.mean())"
      ],
      "execution_count": 532,
      "outputs": [
        {
          "output_type": "stream",
          "text": [
            "=== Confusion Matrix ===\n",
            "[[676   0]\n",
            " [  0 624]]\n",
            "\n",
            "\n",
            "=== Classification Report ===\n",
            "              precision    recall  f1-score   support\n",
            "\n",
            "           0       1.00      1.00      1.00       676\n",
            "           1       1.00      1.00      1.00       624\n",
            "\n",
            "    accuracy                           1.00      1300\n",
            "   macro avg       1.00      1.00      1.00      1300\n",
            "weighted avg       1.00      1.00      1.00      1300\n",
            "\n",
            "\n",
            "\n",
            "=== All AUC Scores ===\n",
            "[1. 1. 1. 1. 1. 1. 1. 1. 1. 1.]\n",
            "\n",
            "\n",
            "=== Mean AUC Score ===\n",
            "Mean AUC Score - Random Forest:  1.0\n"
          ],
          "name": "stdout"
        }
      ]
    },
    {
      "cell_type": "markdown",
      "metadata": {
        "id": "J2YRdlQaV6l_",
        "colab_type": "text"
      },
      "source": [
        "## what"
      ]
    },
    {
      "cell_type": "markdown",
      "metadata": {
        "id": "3kpC_StpW8mM",
        "colab_type": "text"
      },
      "source": [
        "# did i make a mitsake"
      ]
    },
    {
      "cell_type": "markdown",
      "metadata": {
        "id": "zcWh7LQVXFVU",
        "colab_type": "text"
      },
      "source": [
        "# whats the feature importance??"
      ]
    },
    {
      "cell_type": "code",
      "metadata": {
        "id": "uVzZyCSaXC_r",
        "colab_type": "code",
        "colab": {
          "base_uri": "https://localhost:8080/",
          "height": 204
        },
        "outputId": "072e0f39-3e8b-43e2-adb7-0c053cbccdee"
      },
      "source": [
        "fi = rf_feat_importance(baseline_forest, X_train); \n",
        "fi[:5]"
      ],
      "execution_count": 533,
      "outputs": [
        {
          "output_type": "execute_result",
          "data": {
            "text/html": [
              "<div>\n",
              "<style scoped>\n",
              "    .dataframe tbody tr th:only-of-type {\n",
              "        vertical-align: middle;\n",
              "    }\n",
              "\n",
              "    .dataframe tbody tr th {\n",
              "        vertical-align: top;\n",
              "    }\n",
              "\n",
              "    .dataframe thead th {\n",
              "        text-align: right;\n",
              "    }\n",
              "</style>\n",
              "<table border=\"1\" class=\"dataframe\">\n",
              "  <thead>\n",
              "    <tr style=\"text-align: right;\">\n",
              "      <th></th>\n",
              "      <th>cols</th>\n",
              "      <th>imp</th>\n",
              "    </tr>\n",
              "  </thead>\n",
              "  <tbody>\n",
              "    <tr>\n",
              "      <th>4</th>\n",
              "      <td>odor</td>\n",
              "      <td>0.151089</td>\n",
              "    </tr>\n",
              "    <tr>\n",
              "      <th>8</th>\n",
              "      <td>gill-color</td>\n",
              "      <td>0.135835</td>\n",
              "    </tr>\n",
              "    <tr>\n",
              "      <th>7</th>\n",
              "      <td>gill-size</td>\n",
              "      <td>0.120953</td>\n",
              "    </tr>\n",
              "    <tr>\n",
              "      <th>19</th>\n",
              "      <td>spore-print-color</td>\n",
              "      <td>0.098744</td>\n",
              "    </tr>\n",
              "    <tr>\n",
              "      <th>18</th>\n",
              "      <td>ring-type</td>\n",
              "      <td>0.076716</td>\n",
              "    </tr>\n",
              "  </tbody>\n",
              "</table>\n",
              "</div>"
            ],
            "text/plain": [
              "                 cols       imp\n",
              "4                odor  0.151089\n",
              "8          gill-color  0.135835\n",
              "7           gill-size  0.120953\n",
              "19  spore-print-color  0.098744\n",
              "18          ring-type  0.076716"
            ]
          },
          "metadata": {
            "tags": []
          },
          "execution_count": 533
        }
      ]
    },
    {
      "cell_type": "markdown",
      "metadata": {
        "id": "5znN3T2HXhUT",
        "colab_type": "text"
      },
      "source": [
        "# ok, lets use first 2-5th features, im sure it cant predict 100 %, right?????"
      ]
    },
    {
      "cell_type": "code",
      "metadata": {
        "id": "Dk0HWXJnXg0z",
        "colab_type": "code",
        "colab": {}
      },
      "source": [
        "features1 = columns = fi[2:5].cols.values.tolist()"
      ],
      "execution_count": 0,
      "outputs": []
    },
    {
      "cell_type": "code",
      "metadata": {
        "id": "eZRBWPaGXeHD",
        "colab_type": "code",
        "colab": {
          "base_uri": "https://localhost:8080/",
          "height": 34
        },
        "outputId": "3068c076-629d-4ce2-fde5-17030a1201d7"
      },
      "source": [
        "features1"
      ],
      "execution_count": 540,
      "outputs": [
        {
          "output_type": "execute_result",
          "data": {
            "text/plain": [
              "['gill-size', 'spore-print-color', 'ring-type']"
            ]
          },
          "metadata": {
            "tags": []
          },
          "execution_count": 540
        }
      ]
    },
    {
      "cell_type": "code",
      "metadata": {
        "id": "yrWj9R5fW4D2",
        "colab_type": "code",
        "colab": {
          "base_uri": "https://localhost:8080/",
          "height": 136
        },
        "outputId": "f6f0fc01-13a8-48b3-f971-c7542485c591"
      },
      "source": [
        "# X and y\n",
        "y = full_data['class']\n",
        "X = full_data[features1]\n",
        "# cat column recoding\n",
        "X = apply_codes(X, cat_cols = list(X.columns.values), do_cats_only = False)\n",
        "y = apply_codes(y)\n",
        "# train test split\n",
        "X_train, X_val, y_train, y_val, _, _ = spliting_data(X, y)\n",
        "X_train.shape, X_val.shape, y_train.shape, y_val.shape"
      ],
      "execution_count": 544,
      "outputs": [
        {
          "output_type": "stream",
          "text": [
            "/usr/local/lib/python3.6/dist-packages/pandas/core/frame.py:3509: SettingWithCopyWarning: \n",
            "A value is trying to be set on a copy of a slice from a DataFrame.\n",
            "Try using .loc[row_indexer,col_indexer] = value instead\n",
            "\n",
            "See the caveats in the documentation: http://pandas.pydata.org/pandas-docs/stable/user_guide/indexing.html#returning-a-view-versus-a-copy\n",
            "  self[k1] = value[k2]\n"
          ],
          "name": "stderr"
        },
        {
          "output_type": "execute_result",
          "data": {
            "text/plain": [
              "((5199, 3), (1300, 3), (5199,), (1300,))"
            ]
          },
          "metadata": {
            "tags": []
          },
          "execution_count": 544
        }
      ]
    },
    {
      "cell_type": "code",
      "metadata": {
        "id": "elRV5R3LVHK-",
        "colab_type": "code",
        "colab": {}
      },
      "source": [
        "baseline_forest = RandomForestClassifier()\n",
        "baseline_forest.fit(X_train,y_train)\n",
        "# predictions\n",
        "baseline_forest_predict = baseline_forest.predict(X_val)"
      ],
      "execution_count": 0,
      "outputs": []
    },
    {
      "cell_type": "markdown",
      "metadata": {
        "id": "EMvcM7R8Y3l8",
        "colab_type": "text"
      },
      "source": [
        "#lets evaluate these features"
      ]
    },
    {
      "cell_type": "code",
      "metadata": {
        "id": "iUbaUhtVVHeW",
        "colab_type": "code",
        "colab": {
          "base_uri": "https://localhost:8080/",
          "height": 408
        },
        "outputId": "a7730c3c-d3e5-42aa-e45f-d54520cd2217"
      },
      "source": [
        "#ill use just the training data for folds\n",
        "scores = cross_val_score(baseline_forest, X_train, y_train, cv= 10,scoring='roc_auc')\n",
        "print(\"=== Confusion Matrix ===\")\n",
        "print(confusion_matrix(y_val, baseline_forest_predict))\n",
        "print('\\n')\n",
        "print(\"=== Classification Report ===\")\n",
        "print(classification_report(y_val, baseline_forest_predict))\n",
        "print('\\n')\n",
        "print(\"=== All AUC Scores ===\")\n",
        "print(scores)\n",
        "print('\\n')\n",
        "print(\"=== Mean AUC Score ===\")\n",
        "print(\"Mean AUC Score - Random Forest: \", scores.mean())"
      ],
      "execution_count": 546,
      "outputs": [
        {
          "output_type": "stream",
          "text": [
            "=== Confusion Matrix ===\n",
            "[[649  27]\n",
            " [  0 624]]\n",
            "\n",
            "\n",
            "=== Classification Report ===\n",
            "              precision    recall  f1-score   support\n",
            "\n",
            "           0       1.00      0.96      0.98       676\n",
            "           1       0.96      1.00      0.98       624\n",
            "\n",
            "    accuracy                           0.98      1300\n",
            "   macro avg       0.98      0.98      0.98      1300\n",
            "weighted avg       0.98      0.98      0.98      1300\n",
            "\n",
            "\n",
            "\n",
            "=== All AUC Scores ===\n",
            "[1.   1.   1.   0.99 0.99 0.99 0.99 1.   0.99 0.99]\n",
            "\n",
            "\n",
            "=== Mean AUC Score ===\n",
            "Mean AUC Score - Random Forest:  0.9942309237439897\n"
          ],
          "name": "stdout"
        }
      ]
    },
    {
      "cell_type": "markdown",
      "metadata": {
        "id": "7EzUkVBOaGew",
        "colab_type": "text"
      },
      "source": [
        "# there is something fishy here\n",
        "i ran these experiments over and over with different features. cross validation fits here, as this is only a baseline model that does not have its hyperparameters tuned. the score got worse only when i took the least important features from my model, and even then, the precision and recall was the same, which basically means that the model can predict both categories the same. \n",
        "* i care more about high precision more here - its more important to predict that some mushrooms are poisonous when they are not rather than predict that poisonous mushrooms are not poisonous\n",
        "* i did the same experiments with interaction variables and it got the same result\n",
        "* kaggle kernels, that did everything ok(did not scale categorical features), found the same results\n",
        " "
      ]
    },
    {
      "cell_type": "markdown",
      "metadata": {
        "id": "BbwK-4ikddoz",
        "colab_type": "text"
      },
      "source": [
        "# Clustering and feature engineering"
      ]
    },
    {
      "cell_type": "markdown",
      "metadata": {
        "id": "MfmCC_mAdxXf",
        "colab_type": "text"
      },
      "source": [
        "* i wanted to engineer some features and see how they perform when predicting mushroom eadability. This was done in order to extrapolate something useful from this data\n",
        "* i took all color features and recoded them into arbitrary rgb values. "
      ]
    },
    {
      "cell_type": "code",
      "metadata": {
        "id": "EtOgjZLUJCH0",
        "colab_type": "code",
        "colab": {
          "base_uri": "https://localhost:8080/",
          "height": 173
        },
        "outputId": "803fd0f6-1c5c-4127-c888-478e8b19c086"
      },
      "source": [
        "colors = [i for i in full_data.columns if 'color' in i]\n",
        "full_data[colors].describe()"
      ],
      "execution_count": 547,
      "outputs": [
        {
          "output_type": "execute_result",
          "data": {
            "text/html": [
              "<div>\n",
              "<style scoped>\n",
              "    .dataframe tbody tr th:only-of-type {\n",
              "        vertical-align: middle;\n",
              "    }\n",
              "\n",
              "    .dataframe tbody tr th {\n",
              "        vertical-align: top;\n",
              "    }\n",
              "\n",
              "    .dataframe thead th {\n",
              "        text-align: right;\n",
              "    }\n",
              "</style>\n",
              "<table border=\"1\" class=\"dataframe\">\n",
              "  <thead>\n",
              "    <tr style=\"text-align: right;\">\n",
              "      <th></th>\n",
              "      <th>cap-color</th>\n",
              "      <th>gill-color</th>\n",
              "      <th>stalk-color-above-ring</th>\n",
              "      <th>stalk-color-below-ring</th>\n",
              "      <th>veil-color</th>\n",
              "      <th>spore-print-color</th>\n",
              "    </tr>\n",
              "  </thead>\n",
              "  <tbody>\n",
              "    <tr>\n",
              "      <th>count</th>\n",
              "      <td>8124</td>\n",
              "      <td>8124</td>\n",
              "      <td>8124</td>\n",
              "      <td>8124</td>\n",
              "      <td>8124</td>\n",
              "      <td>8124</td>\n",
              "    </tr>\n",
              "    <tr>\n",
              "      <th>unique</th>\n",
              "      <td>10</td>\n",
              "      <td>12</td>\n",
              "      <td>9</td>\n",
              "      <td>9</td>\n",
              "      <td>4</td>\n",
              "      <td>9</td>\n",
              "    </tr>\n",
              "    <tr>\n",
              "      <th>top</th>\n",
              "      <td>n</td>\n",
              "      <td>b</td>\n",
              "      <td>w</td>\n",
              "      <td>w</td>\n",
              "      <td>w</td>\n",
              "      <td>w</td>\n",
              "    </tr>\n",
              "    <tr>\n",
              "      <th>freq</th>\n",
              "      <td>2284</td>\n",
              "      <td>1728</td>\n",
              "      <td>4464</td>\n",
              "      <td>4384</td>\n",
              "      <td>7924</td>\n",
              "      <td>2388</td>\n",
              "    </tr>\n",
              "  </tbody>\n",
              "</table>\n",
              "</div>"
            ],
            "text/plain": [
              "       cap-color gill-color  ... veil-color spore-print-color\n",
              "count       8124       8124  ...       8124              8124\n",
              "unique        10         12  ...          4                 9\n",
              "top            n          b  ...          w                 w\n",
              "freq        2284       1728  ...       7924              2388\n",
              "\n",
              "[4 rows x 6 columns]"
            ]
          },
          "metadata": {
            "tags": []
          },
          "execution_count": 547
        }
      ]
    },
    {
      "cell_type": "markdown",
      "metadata": {
        "id": "WxPAlRDnes7V",
        "colab_type": "text"
      },
      "source": [
        "* bellow is a simple vizualization of some categorical color features of edible and poisonous mushrooms, i took the code from my last project"
      ]
    },
    {
      "cell_type": "code",
      "metadata": {
        "id": "XWYbTQycNW6V",
        "colab_type": "code",
        "colab": {
          "base_uri": "https://localhost:8080/",
          "height": 589
        },
        "outputId": "a30218bd-da37-4cbe-b6fe-e8b94268b526"
      },
      "source": [
        "#gill_colorX edible\n",
        "gill_class = pd.crosstab(full_data['class'], full_data['gill-color'])\n",
        "edible = gill_class.iloc[0]\n",
        "poisonous = gill_class.iloc[1]\n",
        "figure, ax = plt.subplots(figsize = (12, 7))\n",
        "\n",
        "width = 0.4\n",
        "label_loc = np.arange(12)\n",
        "bars_edible = ax.bar(label_loc-width/2, edible, width, label = 'Gill color frequency of edible mushrooms', color ='#32CD32' )\n",
        "bars_poisonous = ax.bar(label_loc + width/2, poisonous, width, label = 'Gill color frequency of poisonous mushrooms', color = '#FF2B00')\n",
        "ax.legend()\n",
        "ax.set_xlabel('Gill colors of mushrooms')\n",
        "ax.set_ylabel('Frequency')\n",
        "ax.set_title('Gill colors of poisonous and edible mushrooms')\n",
        "ax.set_xticklabels(list(gill_class.columns))\n",
        "ax.set_xticks(label_loc) \n",
        "\n",
        "def autolabel(rects):\n",
        "    for rect in rects:\n",
        "        height = rect.get_height()\n",
        "        ax.annotate('{}'.format(height),\n",
        "                    xy=(rect.get_x() + rect.get_width() / 2, height),\n",
        "                    xytext=(0, 3),  # 3 points vertical offset\n",
        "                    textcoords=\"offset points\",\n",
        "                    ha='center', va='bottom')\n",
        "autolabel(bars_edible)\n",
        "autolabel(bars_poisonous)\n",
        "gill_class"
      ],
      "execution_count": 549,
      "outputs": [
        {
          "output_type": "execute_result",
          "data": {
            "text/html": [
              "<div>\n",
              "<style scoped>\n",
              "    .dataframe tbody tr th:only-of-type {\n",
              "        vertical-align: middle;\n",
              "    }\n",
              "\n",
              "    .dataframe tbody tr th {\n",
              "        vertical-align: top;\n",
              "    }\n",
              "\n",
              "    .dataframe thead th {\n",
              "        text-align: right;\n",
              "    }\n",
              "</style>\n",
              "<table border=\"1\" class=\"dataframe\">\n",
              "  <thead>\n",
              "    <tr style=\"text-align: right;\">\n",
              "      <th>gill-color</th>\n",
              "      <th>b</th>\n",
              "      <th>e</th>\n",
              "      <th>g</th>\n",
              "      <th>h</th>\n",
              "      <th>k</th>\n",
              "      <th>n</th>\n",
              "      <th>o</th>\n",
              "      <th>p</th>\n",
              "      <th>r</th>\n",
              "      <th>u</th>\n",
              "      <th>w</th>\n",
              "      <th>y</th>\n",
              "    </tr>\n",
              "    <tr>\n",
              "      <th>class</th>\n",
              "      <th></th>\n",
              "      <th></th>\n",
              "      <th></th>\n",
              "      <th></th>\n",
              "      <th></th>\n",
              "      <th></th>\n",
              "      <th></th>\n",
              "      <th></th>\n",
              "      <th></th>\n",
              "      <th></th>\n",
              "      <th></th>\n",
              "      <th></th>\n",
              "    </tr>\n",
              "  </thead>\n",
              "  <tbody>\n",
              "    <tr>\n",
              "      <th>e</th>\n",
              "      <td>0</td>\n",
              "      <td>96</td>\n",
              "      <td>248</td>\n",
              "      <td>204</td>\n",
              "      <td>344</td>\n",
              "      <td>936</td>\n",
              "      <td>64</td>\n",
              "      <td>852</td>\n",
              "      <td>0</td>\n",
              "      <td>444</td>\n",
              "      <td>956</td>\n",
              "      <td>64</td>\n",
              "    </tr>\n",
              "    <tr>\n",
              "      <th>p</th>\n",
              "      <td>1728</td>\n",
              "      <td>0</td>\n",
              "      <td>504</td>\n",
              "      <td>528</td>\n",
              "      <td>64</td>\n",
              "      <td>112</td>\n",
              "      <td>0</td>\n",
              "      <td>640</td>\n",
              "      <td>24</td>\n",
              "      <td>48</td>\n",
              "      <td>246</td>\n",
              "      <td>22</td>\n",
              "    </tr>\n",
              "  </tbody>\n",
              "</table>\n",
              "</div>"
            ],
            "text/plain": [
              "gill-color     b   e    g    h    k    n   o    p   r    u    w   y\n",
              "class                                                              \n",
              "e              0  96  248  204  344  936  64  852   0  444  956  64\n",
              "p           1728   0  504  528   64  112   0  640  24   48  246  22"
            ]
          },
          "metadata": {
            "tags": []
          },
          "execution_count": 549
        },
        {
          "output_type": "display_data",
          "data": {
            "image/png": "[encoded data removed]",
            "text/plain": [
              "<Figure size 864x504 with 1 Axes>"
            ]
          },
          "metadata": {
            "tags": []
          }
        }
      ]
    },
    {
      "cell_type": "code",
      "metadata": {
        "id": "DO4RZshgOsVK",
        "colab_type": "code",
        "colab": {
          "base_uri": "https://localhost:8080/",
          "height": 589
        },
        "outputId": "1b977ebe-8e12-4bc2-b015-6b771ff9020c"
      },
      "source": [
        "#gill_colorX edible\n",
        "spore_class = pd.crosstab(full_data['class'], full_data['spore-print-color'])\n",
        "edible = spore_class.iloc[0]\n",
        "poisonous = spore_class.iloc[1]\n",
        "figure, ax = plt.subplots(figsize = (12, 7))\n",
        "\n",
        "width = 0.4\n",
        "label_loc = np.arange(9)\n",
        "bars_edible = ax.bar(label_loc-width/2, edible, width, label = 'spore color frequency of edible mushrooms', color ='#32CD32' )\n",
        "bars_poisonous = ax.bar(label_loc + width/2, poisonous, width, label = 'spore color frequency of poisonous mushrooms', color = '#FF2B00')\n",
        "ax.legend()\n",
        "ax.set_xlabel('Spore colors of mushrooms')\n",
        "ax.set_ylabel('Frequency')\n",
        "ax.set_title('Spore colors of poisonous and edible mushrooms')\n",
        "ax.set_xticklabels(list(spore_class.columns))\n",
        "ax.set_xticks(label_loc) \n",
        "\n",
        "def autolabel(rects):\n",
        "    for rect in rects:\n",
        "        height = rect.get_height()\n",
        "        ax.annotate('{}'.format(height),\n",
        "                    xy=(rect.get_x() + rect.get_width() / 2, height),\n",
        "                    xytext=(0, 3),  # 3 points vertical offset\n",
        "                    textcoords=\"offset points\",\n",
        "                    ha='center', va='bottom')\n",
        "autolabel(bars_edible)\n",
        "autolabel(bars_poisonous)\n",
        "spore_class"
      ],
      "execution_count": 550,
      "outputs": [
        {
          "output_type": "execute_result",
          "data": {
            "text/html": [
              "<div>\n",
              "<style scoped>\n",
              "    .dataframe tbody tr th:only-of-type {\n",
              "        vertical-align: middle;\n",
              "    }\n",
              "\n",
              "    .dataframe tbody tr th {\n",
              "        vertical-align: top;\n",
              "    }\n",
              "\n",
              "    .dataframe thead th {\n",
              "        text-align: right;\n",
              "    }\n",
              "</style>\n",
              "<table border=\"1\" class=\"dataframe\">\n",
              "  <thead>\n",
              "    <tr style=\"text-align: right;\">\n",
              "      <th>spore-print-color</th>\n",
              "      <th>b</th>\n",
              "      <th>h</th>\n",
              "      <th>k</th>\n",
              "      <th>n</th>\n",
              "      <th>o</th>\n",
              "      <th>r</th>\n",
              "      <th>u</th>\n",
              "      <th>w</th>\n",
              "      <th>y</th>\n",
              "    </tr>\n",
              "    <tr>\n",
              "      <th>class</th>\n",
              "      <th></th>\n",
              "      <th></th>\n",
              "      <th></th>\n",
              "      <th></th>\n",
              "      <th></th>\n",
              "      <th></th>\n",
              "      <th></th>\n",
              "      <th></th>\n",
              "      <th></th>\n",
              "    </tr>\n",
              "  </thead>\n",
              "  <tbody>\n",
              "    <tr>\n",
              "      <th>e</th>\n",
              "      <td>48</td>\n",
              "      <td>48</td>\n",
              "      <td>1648</td>\n",
              "      <td>1744</td>\n",
              "      <td>48</td>\n",
              "      <td>0</td>\n",
              "      <td>48</td>\n",
              "      <td>576</td>\n",
              "      <td>48</td>\n",
              "    </tr>\n",
              "    <tr>\n",
              "      <th>p</th>\n",
              "      <td>0</td>\n",
              "      <td>1584</td>\n",
              "      <td>224</td>\n",
              "      <td>224</td>\n",
              "      <td>0</td>\n",
              "      <td>72</td>\n",
              "      <td>0</td>\n",
              "      <td>1812</td>\n",
              "      <td>0</td>\n",
              "    </tr>\n",
              "  </tbody>\n",
              "</table>\n",
              "</div>"
            ],
            "text/plain": [
              "spore-print-color   b     h     k     n   o   r   u     w   y\n",
              "class                                                        \n",
              "e                  48    48  1648  1744  48   0  48   576  48\n",
              "p                   0  1584   224   224   0  72   0  1812   0"
            ]
          },
          "metadata": {
            "tags": []
          },
          "execution_count": 550
        },
        {
          "output_type": "display_data",
          "data": {
            "image/png": "[encoded data removed]",
            "text/plain": [
              "<Figure size 864x504 with 1 Axes>"
            ]
          },
          "metadata": {
            "tags": []
          }
        }
      ]
    },
    {
      "cell_type": "code",
      "metadata": {
        "id": "I0eVwPcpP_If",
        "colab_type": "code",
        "colab": {}
      },
      "source": [
        "data_colors = full_data[colors]"
      ],
      "execution_count": 0,
      "outputs": []
    },
    {
      "cell_type": "code",
      "metadata": {
        "id": "j_4difXHQahW",
        "colab_type": "code",
        "colab": {
          "base_uri": "https://localhost:8080/",
          "height": 173
        },
        "outputId": "7ac11474-2099-47e8-f84e-fc32f6c2fff3"
      },
      "source": [
        "data_colors.describe()"
      ],
      "execution_count": 552,
      "outputs": [
        {
          "output_type": "execute_result",
          "data": {
            "text/html": [
              "<div>\n",
              "<style scoped>\n",
              "    .dataframe tbody tr th:only-of-type {\n",
              "        vertical-align: middle;\n",
              "    }\n",
              "\n",
              "    .dataframe tbody tr th {\n",
              "        vertical-align: top;\n",
              "    }\n",
              "\n",
              "    .dataframe thead th {\n",
              "        text-align: right;\n",
              "    }\n",
              "</style>\n",
              "<table border=\"1\" class=\"dataframe\">\n",
              "  <thead>\n",
              "    <tr style=\"text-align: right;\">\n",
              "      <th></th>\n",
              "      <th>cap-color</th>\n",
              "      <th>gill-color</th>\n",
              "      <th>stalk-color-above-ring</th>\n",
              "      <th>stalk-color-below-ring</th>\n",
              "      <th>veil-color</th>\n",
              "      <th>spore-print-color</th>\n",
              "    </tr>\n",
              "  </thead>\n",
              "  <tbody>\n",
              "    <tr>\n",
              "      <th>count</th>\n",
              "      <td>8124</td>\n",
              "      <td>8124</td>\n",
              "      <td>8124</td>\n",
              "      <td>8124</td>\n",
              "      <td>8124</td>\n",
              "      <td>8124</td>\n",
              "    </tr>\n",
              "    <tr>\n",
              "      <th>unique</th>\n",
              "      <td>10</td>\n",
              "      <td>12</td>\n",
              "      <td>9</td>\n",
              "      <td>9</td>\n",
              "      <td>4</td>\n",
              "      <td>9</td>\n",
              "    </tr>\n",
              "    <tr>\n",
              "      <th>top</th>\n",
              "      <td>n</td>\n",
              "      <td>b</td>\n",
              "      <td>w</td>\n",
              "      <td>w</td>\n",
              "      <td>w</td>\n",
              "      <td>w</td>\n",
              "    </tr>\n",
              "    <tr>\n",
              "      <th>freq</th>\n",
              "      <td>2284</td>\n",
              "      <td>1728</td>\n",
              "      <td>4464</td>\n",
              "      <td>4384</td>\n",
              "      <td>7924</td>\n",
              "      <td>2388</td>\n",
              "    </tr>\n",
              "  </tbody>\n",
              "</table>\n",
              "</div>"
            ],
            "text/plain": [
              "       cap-color gill-color  ... veil-color spore-print-color\n",
              "count       8124       8124  ...       8124              8124\n",
              "unique        10         12  ...          4                 9\n",
              "top            n          b  ...          w                 w\n",
              "freq        2284       1728  ...       7924              2388\n",
              "\n",
              "[4 rows x 6 columns]"
            ]
          },
          "metadata": {
            "tags": []
          },
          "execution_count": 552
        }
      ]
    },
    {
      "cell_type": "code",
      "metadata": {
        "id": "RH6ueXRZgFGe",
        "colab_type": "code",
        "colab": {}
      },
      "source": [
        "def map_colors(df, feats):\n",
        "  color_keys = {'k': 'Black',\n",
        "                'n': 'Brown',\n",
        "                'b': 'Buff',\n",
        "                'h': 'Chocolate',\n",
        "                'g': 'Gray',\n",
        "                'r': 'Green',\n",
        "                'o': 'Orange',\n",
        "                'p': 'Pink',\n",
        "                'u': 'Purple',\n",
        "                'e': 'Red', \n",
        "                'w': 'White',\n",
        "                'y': 'Yellow', \n",
        "                'c': 'Cinammon'}\n",
        "  color_grouping_rgb =  {'Black': [0, 0, 0],\n",
        "                         'Brown': [165, 42, 42],\n",
        "                         'Buff': [240, 220, 130],\n",
        "                         'Chocolate': [123, 63, 0],\n",
        "                         'Gray': [128, 128, 128],\n",
        "                         'Green': [112, 220, 112],\n",
        "                         'Orange': [255, 140, 0],\n",
        "                         'Pink': [255, 129, 203],\n",
        "                         'Purple': [48, 25, 52],\n",
        "                         'Red': [192, 0, 0],\n",
        "                         'White': [255, 255, 255],\n",
        "                         'Yellow': [255,255,102],\n",
        "                         'Cinammon': [210, 105, 30]}\n",
        "\n",
        "  for feat in feats:\n",
        "    df[feat] = df[feat].map(color_keys)\n",
        "    df[feat] = df[feat].map(color_grouping_rgb)\n",
        "  return df\n",
        "\n",
        "def split_values_into_cols(df, feats, col_pre):\n",
        "  for feat in feats:\n",
        "    rgb_rank = df[feat].apply(pd.Series)\n",
        "    col_names = [feat+pre for pre in col_pre]\n",
        "    rgb_rank.columns = col_names \n",
        "    df = pd.concat([df, rgb_rank], axis=1, sort=False)\n",
        "  df.drop(feats, axis = 1, inplace = True)\n",
        "  return df"
      ],
      "execution_count": 0,
      "outputs": []
    },
    {
      "cell_type": "code",
      "metadata": {
        "id": "A9KFICSEQd0M",
        "colab_type": "code",
        "colab": {
          "base_uri": "https://localhost:8080/",
          "height": 187
        },
        "outputId": "ed99890e-4d66-4bde-a10c-0a4735d0de1e"
      },
      "source": [
        "mapped_colors = map_colors(data_colors, colors)"
      ],
      "execution_count": 553,
      "outputs": [
        {
          "output_type": "stream",
          "text": [
            "/usr/local/lib/python3.6/dist-packages/ipykernel_launcher.py:30: SettingWithCopyWarning: \n",
            "A value is trying to be set on a copy of a slice from a DataFrame.\n",
            "Try using .loc[row_indexer,col_indexer] = value instead\n",
            "\n",
            "See the caveats in the documentation: http://pandas.pydata.org/pandas-docs/stable/user_guide/indexing.html#returning-a-view-versus-a-copy\n",
            "/usr/local/lib/python3.6/dist-packages/ipykernel_launcher.py:31: SettingWithCopyWarning: \n",
            "A value is trying to be set on a copy of a slice from a DataFrame.\n",
            "Try using .loc[row_indexer,col_indexer] = value instead\n",
            "\n",
            "See the caveats in the documentation: http://pandas.pydata.org/pandas-docs/stable/user_guide/indexing.html#returning-a-view-versus-a-copy\n"
          ],
          "name": "stderr"
        }
      ]
    },
    {
      "cell_type": "code",
      "metadata": {
        "id": "I311V0PWR2gC",
        "colab_type": "code",
        "colab": {
          "base_uri": "https://localhost:8080/",
          "height": 419
        },
        "outputId": "522018ab-28aa-4d8f-a1a1-4329fdabc3e9"
      },
      "source": [
        "mapped_colors"
      ],
      "execution_count": 557,
      "outputs": [
        {
          "output_type": "execute_result",
          "data": {
            "text/html": [
              "<div>\n",
              "<style scoped>\n",
              "    .dataframe tbody tr th:only-of-type {\n",
              "        vertical-align: middle;\n",
              "    }\n",
              "\n",
              "    .dataframe tbody tr th {\n",
              "        vertical-align: top;\n",
              "    }\n",
              "\n",
              "    .dataframe thead th {\n",
              "        text-align: right;\n",
              "    }\n",
              "</style>\n",
              "<table border=\"1\" class=\"dataframe\">\n",
              "  <thead>\n",
              "    <tr style=\"text-align: right;\">\n",
              "      <th></th>\n",
              "      <th>cap-color</th>\n",
              "      <th>gill-color</th>\n",
              "      <th>stalk-color-above-ring</th>\n",
              "      <th>stalk-color-below-ring</th>\n",
              "      <th>veil-color</th>\n",
              "      <th>spore-print-color</th>\n",
              "    </tr>\n",
              "  </thead>\n",
              "  <tbody>\n",
              "    <tr>\n",
              "      <th>0</th>\n",
              "      <td>[165, 42, 42]</td>\n",
              "      <td>[0, 0, 0]</td>\n",
              "      <td>[255, 255, 255]</td>\n",
              "      <td>[255, 255, 255]</td>\n",
              "      <td>[255, 255, 255]</td>\n",
              "      <td>[0, 0, 0]</td>\n",
              "    </tr>\n",
              "    <tr>\n",
              "      <th>1</th>\n",
              "      <td>[255, 255, 102]</td>\n",
              "      <td>[0, 0, 0]</td>\n",
              "      <td>[255, 255, 255]</td>\n",
              "      <td>[255, 255, 255]</td>\n",
              "      <td>[255, 255, 255]</td>\n",
              "      <td>[165, 42, 42]</td>\n",
              "    </tr>\n",
              "    <tr>\n",
              "      <th>2</th>\n",
              "      <td>[255, 255, 255]</td>\n",
              "      <td>[165, 42, 42]</td>\n",
              "      <td>[255, 255, 255]</td>\n",
              "      <td>[255, 255, 255]</td>\n",
              "      <td>[255, 255, 255]</td>\n",
              "      <td>[165, 42, 42]</td>\n",
              "    </tr>\n",
              "    <tr>\n",
              "      <th>3</th>\n",
              "      <td>[255, 255, 255]</td>\n",
              "      <td>[165, 42, 42]</td>\n",
              "      <td>[255, 255, 255]</td>\n",
              "      <td>[255, 255, 255]</td>\n",
              "      <td>[255, 255, 255]</td>\n",
              "      <td>[0, 0, 0]</td>\n",
              "    </tr>\n",
              "    <tr>\n",
              "      <th>4</th>\n",
              "      <td>[128, 128, 128]</td>\n",
              "      <td>[0, 0, 0]</td>\n",
              "      <td>[255, 255, 255]</td>\n",
              "      <td>[255, 255, 255]</td>\n",
              "      <td>[255, 255, 255]</td>\n",
              "      <td>[165, 42, 42]</td>\n",
              "    </tr>\n",
              "    <tr>\n",
              "      <th>...</th>\n",
              "      <td>...</td>\n",
              "      <td>...</td>\n",
              "      <td>...</td>\n",
              "      <td>...</td>\n",
              "      <td>...</td>\n",
              "      <td>...</td>\n",
              "    </tr>\n",
              "    <tr>\n",
              "      <th>8119</th>\n",
              "      <td>[165, 42, 42]</td>\n",
              "      <td>[255, 255, 102]</td>\n",
              "      <td>[255, 140, 0]</td>\n",
              "      <td>[255, 140, 0]</td>\n",
              "      <td>[255, 140, 0]</td>\n",
              "      <td>[240, 220, 130]</td>\n",
              "    </tr>\n",
              "    <tr>\n",
              "      <th>8120</th>\n",
              "      <td>[165, 42, 42]</td>\n",
              "      <td>[255, 255, 102]</td>\n",
              "      <td>[255, 140, 0]</td>\n",
              "      <td>[255, 140, 0]</td>\n",
              "      <td>[165, 42, 42]</td>\n",
              "      <td>[240, 220, 130]</td>\n",
              "    </tr>\n",
              "    <tr>\n",
              "      <th>8121</th>\n",
              "      <td>[165, 42, 42]</td>\n",
              "      <td>[165, 42, 42]</td>\n",
              "      <td>[255, 140, 0]</td>\n",
              "      <td>[255, 140, 0]</td>\n",
              "      <td>[255, 140, 0]</td>\n",
              "      <td>[240, 220, 130]</td>\n",
              "    </tr>\n",
              "    <tr>\n",
              "      <th>8122</th>\n",
              "      <td>[165, 42, 42]</td>\n",
              "      <td>[240, 220, 130]</td>\n",
              "      <td>[255, 255, 255]</td>\n",
              "      <td>[255, 255, 255]</td>\n",
              "      <td>[255, 255, 255]</td>\n",
              "      <td>[255, 255, 255]</td>\n",
              "    </tr>\n",
              "    <tr>\n",
              "      <th>8123</th>\n",
              "      <td>[165, 42, 42]</td>\n",
              "      <td>[255, 255, 102]</td>\n",
              "      <td>[255, 140, 0]</td>\n",
              "      <td>[255, 140, 0]</td>\n",
              "      <td>[255, 140, 0]</td>\n",
              "      <td>[255, 140, 0]</td>\n",
              "    </tr>\n",
              "  </tbody>\n",
              "</table>\n",
              "<p>8124 rows × 6 columns</p>\n",
              "</div>"
            ],
            "text/plain": [
              "            cap-color       gill-color  ...       veil-color spore-print-color\n",
              "0       [165, 42, 42]        [0, 0, 0]  ...  [255, 255, 255]         [0, 0, 0]\n",
              "1     [255, 255, 102]        [0, 0, 0]  ...  [255, 255, 255]     [165, 42, 42]\n",
              "2     [255, 255, 255]    [165, 42, 42]  ...  [255, 255, 255]     [165, 42, 42]\n",
              "3     [255, 255, 255]    [165, 42, 42]  ...  [255, 255, 255]         [0, 0, 0]\n",
              "4     [128, 128, 128]        [0, 0, 0]  ...  [255, 255, 255]     [165, 42, 42]\n",
              "...               ...              ...  ...              ...               ...\n",
              "8119    [165, 42, 42]  [255, 255, 102]  ...    [255, 140, 0]   [240, 220, 130]\n",
              "8120    [165, 42, 42]  [255, 255, 102]  ...    [165, 42, 42]   [240, 220, 130]\n",
              "8121    [165, 42, 42]    [165, 42, 42]  ...    [255, 140, 0]   [240, 220, 130]\n",
              "8122    [165, 42, 42]  [240, 220, 130]  ...  [255, 255, 255]   [255, 255, 255]\n",
              "8123    [165, 42, 42]  [255, 255, 102]  ...    [255, 140, 0]     [255, 140, 0]\n",
              "\n",
              "[8124 rows x 6 columns]"
            ]
          },
          "metadata": {
            "tags": []
          },
          "execution_count": 557
        }
      ]
    },
    {
      "cell_type": "code",
      "metadata": {
        "id": "1EtBTsE6RAe9",
        "colab_type": "code",
        "colab": {}
      },
      "source": [
        "rgb_values = split_values_into_cols(mapped_colors, colors, ['-red', '-green', '-blue'])"
      ],
      "execution_count": 0,
      "outputs": []
    },
    {
      "cell_type": "code",
      "metadata": {
        "id": "LE1HbrTWaBHV",
        "colab_type": "code",
        "colab": {
          "base_uri": "https://localhost:8080/",
          "height": 704
        },
        "outputId": "82ca26f5-697f-4145-da42-3c45574141d4"
      },
      "source": [
        "sns.set(style=\"white\")\n",
        "corr = rgb_values.corr(method = 'spearman')\n",
        "mask = np.triu(np.ones_like(corr, dtype=np.bool))\n",
        "f, ax = plt.subplots(figsize=(11, 9))\n",
        "cmap = sns.diverging_palette(220, 10, as_cmap=True)\n",
        "sns.heatmap(corr, mask=mask, cmap=cmap, vmax=.3, center=0,\n",
        "            square=True, linewidths=.5, cbar_kws={\"shrink\": .5})"
      ],
      "execution_count": 556,
      "outputs": [
        {
          "output_type": "execute_result",
          "data": {
            "text/plain": [
              "<matplotlib.axes._subplots.AxesSubplot at 0x7fde927e1860>"
            ]
          },
          "metadata": {
            "tags": []
          },
          "execution_count": 556
        },
        {
          "output_type": "display_data",
          "data": {
            "image/png": "[encoded data removed]",
            "text/plain": [
              "<Figure size 792x648 with 2 Axes>"
            ]
          },
          "metadata": {
            "tags": []
          }
        }
      ]
    },
    {
      "cell_type": "markdown",
      "metadata": {
        "id": "4aGPyWjPfeL9",
        "colab_type": "text"
      },
      "source": [
        "* hmmmm, seems like there is some colinearity, but not that much. for simplicity purposes ill leave it like that, but for future maybe i'll do something with them \n",
        "* i used KNN clustering, to find whether the features that i have created form into somewhat meaningfull clusters "
      ]
    },
    {
      "cell_type": "code",
      "metadata": {
        "id": "XmFh0spvfw9j",
        "colab_type": "code",
        "colab": {}
      },
      "source": [
        "X_cluster = rgb_values[['cap-color-red', 'cap-color-green', 'cap-color-blue']]"
      ],
      "execution_count": 0,
      "outputs": []
    },
    {
      "cell_type": "code",
      "metadata": {
        "id": "iOoAkaxugOI7",
        "colab_type": "code",
        "colab": {}
      },
      "source": [
        "preprocessor1 = pipeline(num_feat = list(X_cluster.columns.values))"
      ],
      "execution_count": 0,
      "outputs": []
    },
    {
      "cell_type": "code",
      "metadata": {
        "id": "LOxftvP9209A",
        "colab_type": "code",
        "colab": {}
      },
      "source": [
        "X_cluster = preprocessor1.fit_transform(X_cluster)"
      ],
      "execution_count": 0,
      "outputs": []
    },
    {
      "cell_type": "code",
      "metadata": {
        "id": "m9h0eTXW3U9Y",
        "colab_type": "code",
        "colab": {}
      },
      "source": [
        "kmeans_per_k = [KMeans(n_clusters=k, random_state=42).fit(X_cluster)\n",
        "                for k in range(1, 10)]\n",
        "inertias = [model.inertia_ for model in kmeans_per_k]"
      ],
      "execution_count": 0,
      "outputs": []
    },
    {
      "cell_type": "code",
      "metadata": {
        "id": "cRB0zrhaPJ2F",
        "colab_type": "code",
        "colab": {
          "base_uri": "https://localhost:8080/",
          "height": 170
        },
        "outputId": "86f73eb7-8b53-4a82-de46-57522bee62f5"
      },
      "source": [
        "inertias"
      ],
      "execution_count": 474,
      "outputs": [
        {
          "output_type": "execute_result",
          "data": {
            "text/plain": [
              "[24372.0,\n",
              " 7938.261957676737,\n",
              " 3165.6806766045893,\n",
              " 1176.974239735886,\n",
              " 471.27798267940614,\n",
              " 201.57937187199116,\n",
              " 125.09755956825276,\n",
              " 68.11967678494837,\n",
              " 16.76815289708926]"
            ]
          },
          "metadata": {
            "tags": []
          },
          "execution_count": 474
        }
      ]
    },
    {
      "cell_type": "code",
      "metadata": {
        "id": "mfYCVLVH3e6d",
        "colab_type": "code",
        "colab": {
          "base_uri": "https://localhost:8080/",
          "height": 260
        },
        "outputId": "8a16f5cc-3f2a-49e2-afc0-be689049a53b"
      },
      "source": [
        "plt.figure(figsize=(8, 3.5))\n",
        "plt.plot(range(1, 10), inertias, \"bo-\")\n",
        "plt.xlabel(\"$k$\", fontsize=14)\n",
        "plt.ylabel(\"Inertia\", fontsize=14)\n",
        "plt.annotate('Elbow',\n",
        "             xy=(4, inertias[3]),\n",
        "             xytext=(0.55, 0.55),\n",
        "             textcoords='figure fraction',\n",
        "             fontsize=16,\n",
        "             arrowprops=dict(facecolor='black', shrink=0.1)\n",
        "            )\n",
        "plt.axis([1, 8.5, 0, 1300])\n",
        "plt.show()"
      ],
      "execution_count": 463,
      "outputs": [
        {
          "output_type": "display_data",
          "data": {
            "image/png": "[encoded data removed]",
            "text/plain": [
              "<Figure size 576x252 with 1 Axes>"
            ]
          },
          "metadata": {
            "tags": []
          }
        }
      ]
    },
    {
      "cell_type": "code",
      "metadata": {
        "id": "NS9FomGG3mU-",
        "colab_type": "code",
        "colab": {
          "base_uri": "https://localhost:8080/",
          "height": 34
        },
        "outputId": "8845135f-2956-4216-bde0-ed70f0342851"
      },
      "source": [
        "full_data['cap-color'].nunique()"
      ],
      "execution_count": 464,
      "outputs": [
        {
          "output_type": "execute_result",
          "data": {
            "text/plain": [
              "10"
            ]
          },
          "metadata": {
            "tags": []
          },
          "execution_count": 464
        }
      ]
    },
    {
      "cell_type": "markdown",
      "metadata": {
        "id": "ZxaB0c_1ie_J",
        "colab_type": "text"
      },
      "source": [
        "* there seems that 4 cluster is the best number of clusters. in this category, cap color, there is 10 unique values, so there should be 10 clusters maybe?\n",
        "* but after thinking for some time i cheched the discriptions of the categories - some of the taxonomical colors are very similar by their values (eg, cinammon and brown), so this clustering might be more accurate than these categories, at least for cap color"
      ]
    },
    {
      "cell_type": "markdown",
      "metadata": {
        "id": "tr35aAwBj14u",
        "colab_type": "text"
      },
      "source": [
        "## lets try logistic regression with these color features "
      ]
    },
    {
      "cell_type": "code",
      "metadata": {
        "id": "A5h7cy-CwlVa",
        "colab_type": "code",
        "colab": {}
      },
      "source": [
        "y = apply_codes(full_data['class'])"
      ],
      "execution_count": 0,
      "outputs": []
    },
    {
      "cell_type": "code",
      "metadata": {
        "id": "0hb0eLwQhS0J",
        "colab_type": "code",
        "colab": {}
      },
      "source": [
        "X_train, X_val, y_train, y_val, _, _ = spliting_data(rgb_values, y)"
      ],
      "execution_count": 0,
      "outputs": []
    },
    {
      "cell_type": "code",
      "metadata": {
        "id": "tpVtG0UqhTnV",
        "colab_type": "code",
        "colab": {
          "base_uri": "https://localhost:8080/",
          "height": 34
        },
        "outputId": "9bba334b-fe67-497b-8898-750f5f88ec2e"
      },
      "source": [
        "X_train.shape, X_val.shape, y_train.shape, y_val.shape"
      ],
      "execution_count": 562,
      "outputs": [
        {
          "output_type": "execute_result",
          "data": {
            "text/plain": [
              "((5199, 18), (1300, 18), (5199,), (1300,))"
            ]
          },
          "metadata": {
            "tags": []
          },
          "execution_count": 562
        }
      ]
    },
    {
      "cell_type": "code",
      "metadata": {
        "id": "1uAEvqGAhfMl",
        "colab_type": "code",
        "colab": {
          "base_uri": "https://localhost:8080/",
          "height": 340
        },
        "outputId": "dfe289c2-e38f-4f57-e7dd-7768f825d2b8"
      },
      "source": [
        "X_train.dtypes"
      ],
      "execution_count": 563,
      "outputs": [
        {
          "output_type": "execute_result",
          "data": {
            "text/plain": [
              "cap-color-red                   int64\n",
              "cap-color-green                 int64\n",
              "cap-color-blue                  int64\n",
              "gill-color-red                  int64\n",
              "gill-color-green                int64\n",
              "gill-color-blue                 int64\n",
              "stalk-color-above-ring-red      int64\n",
              "stalk-color-above-ring-green    int64\n",
              "stalk-color-above-ring-blue     int64\n",
              "stalk-color-below-ring-red      int64\n",
              "stalk-color-below-ring-green    int64\n",
              "stalk-color-below-ring-blue     int64\n",
              "veil-color-red                  int64\n",
              "veil-color-green                int64\n",
              "veil-color-blue                 int64\n",
              "spore-print-color-red           int64\n",
              "spore-print-color-green         int64\n",
              "spore-print-color-blue          int64\n",
              "dtype: object"
            ]
          },
          "metadata": {
            "tags": []
          },
          "execution_count": 563
        }
      ]
    },
    {
      "cell_type": "code",
      "metadata": {
        "id": "HW6L89smlBgR",
        "colab_type": "code",
        "colab": {}
      },
      "source": [
        "preprocessor1 = pipeline(num_feat = list(rgb_values.columns.values))"
      ],
      "execution_count": 0,
      "outputs": []
    },
    {
      "cell_type": "code",
      "metadata": {
        "id": "asCT8GKomWJo",
        "colab_type": "code",
        "colab": {}
      },
      "source": [
        "X_train = preprocessor1.fit_transform(X_train)\n",
        "X_val = preprocessor1.transform(X_val)"
      ],
      "execution_count": 0,
      "outputs": []
    },
    {
      "cell_type": "code",
      "metadata": {
        "id": "Fl8ormDwmilN",
        "colab_type": "code",
        "colab": {
          "base_uri": "https://localhost:8080/",
          "height": 34
        },
        "outputId": "5a358483-5d7e-4584-fffa-cb561c143789"
      },
      "source": [
        "X_train.shape"
      ],
      "execution_count": 566,
      "outputs": [
        {
          "output_type": "execute_result",
          "data": {
            "text/plain": [
              "(5199, 18)"
            ]
          },
          "metadata": {
            "tags": []
          },
          "execution_count": 566
        }
      ]
    },
    {
      "cell_type": "code",
      "metadata": {
        "id": "lcJwVh80week",
        "colab_type": "code",
        "colab": {
          "base_uri": "https://localhost:8080/",
          "height": 221
        },
        "outputId": "812393fe-373d-4db8-c0bf-60fda8775bc1"
      },
      "source": [
        "y_train"
      ],
      "execution_count": 567,
      "outputs": [
        {
          "output_type": "execute_result",
          "data": {
            "text/plain": [
              "7794    1\n",
              "6836    1\n",
              "4985    1\n",
              "7167    0\n",
              "2985    0\n",
              "       ..\n",
              "4095    0\n",
              "5276    1\n",
              "374     0\n",
              "4344    1\n",
              "6493    1\n",
              "Length: 5199, dtype: int8"
            ]
          },
          "metadata": {
            "tags": []
          },
          "execution_count": 567
        }
      ]
    },
    {
      "cell_type": "code",
      "metadata": {
        "id": "YQwfGbMpm1xU",
        "colab_type": "code",
        "colab": {
          "base_uri": "https://localhost:8080/",
          "height": 102
        },
        "outputId": "92d02ceb-b72c-4028-f7fa-d0963fd1358f"
      },
      "source": [
        "baseline_logistic = LogisticRegression()\n",
        "baseline_logistic.fit(X_train, y_train)"
      ],
      "execution_count": 568,
      "outputs": [
        {
          "output_type": "execute_result",
          "data": {
            "text/plain": [
              "LogisticRegression(C=1.0, class_weight=None, dual=False, fit_intercept=True,\n",
              "                   intercept_scaling=1, l1_ratio=None, max_iter=100,\n",
              "                   multi_class='auto', n_jobs=None, penalty='l2',\n",
              "                   random_state=None, solver='lbfgs', tol=0.0001, verbose=0,\n",
              "                   warm_start=False)"
            ]
          },
          "metadata": {
            "tags": []
          },
          "execution_count": 568
        }
      ]
    },
    {
      "cell_type": "code",
      "metadata": {
        "id": "v6hn-IURnESD",
        "colab_type": "code",
        "colab": {}
      },
      "source": [
        "y_hat = baseline_logistic.predict(X_val)\n",
        "yhat_prob = baseline_logistic.predict_proba(X_val)"
      ],
      "execution_count": 0,
      "outputs": []
    },
    {
      "cell_type": "code",
      "metadata": {
        "id": "h7PoGYz8pXry",
        "colab_type": "code",
        "colab": {
          "base_uri": "https://localhost:8080/",
          "height": 88
        },
        "outputId": "e62863e0-d9fc-4f08-ae29-d71a9c13ef03"
      },
      "source": [
        "jaccard_similarity_score(y_val, y_hat)"
      ],
      "execution_count": 570,
      "outputs": [
        {
          "output_type": "stream",
          "text": [
            "/usr/local/lib/python3.6/dist-packages/sklearn/metrics/_classification.py:664: FutureWarning: jaccard_similarity_score has been deprecated and replaced with jaccard_score. It will be removed in version 0.23. This implementation has surprising behavior for binary and multiclass classification tasks.\n",
            "  FutureWarning)\n"
          ],
          "name": "stderr"
        },
        {
          "output_type": "execute_result",
          "data": {
            "text/plain": [
              "0.9146153846153846"
            ]
          },
          "metadata": {
            "tags": []
          },
          "execution_count": 570
        }
      ]
    },
    {
      "cell_type": "code",
      "metadata": {
        "id": "zeLw2WDYpgJP",
        "colab_type": "code",
        "colab": {
          "base_uri": "https://localhost:8080/",
          "height": 51
        },
        "outputId": "64e5e3a4-d9f0-484f-ccfb-23f3a5ff3fc7"
      },
      "source": [
        "\n",
        "def plot_confusion_matrix(cm, classes,\n",
        "                          normalize=False,\n",
        "                          title='Confusion matrix',\n",
        "                          cmap=plt.cm.Blues):\n",
        "    \"\n",
        "    if normalize:\n",
        "        cm = cm.astype('float') / cm.sum(axis=1)[:, np.newaxis]\n",
        "        print(\"Normalized confusion matrix\")\n",
        "    else:\n",
        "        print('Confusion matrix, without normalization')\n",
        "\n",
        "    print(cm)\n",
        "\n",
        "    plt.imshow(cm, interpolation='nearest', cmap=cmap)\n",
        "    plt.title(title)\n",
        "    plt.colorbar()\n",
        "    tick_marks = np.arange(len(classes))\n",
        "    plt.xticks(tick_marks, classes, rotation=45)\n",
        "    plt.yticks(tick_marks, classes)\n",
        "\n",
        "    fmt = '.2f' if normalize else 'd'\n",
        "    thresh = cm.max() / 2.\n",
        "    for i, j in itertools.product(range(cm.shape[0]), range(cm.shape[1])):\n",
        "        plt.text(j, i, format(cm[i, j], fmt),\n",
        "                 horizontalalignment=\"center\",\n",
        "                 color=\"white\" if cm[i, j] > thresh else \"black\")\n",
        "\n",
        "    plt.tight_layout()\n",
        "    plt.ylabel('True label')\n",
        "    plt.xlabel('Predicted label')\n",
        "print(confusion_matrix(y_val, y_hat, labels=[0,1]))"
      ],
      "execution_count": 455,
      "outputs": [
        {
          "output_type": "stream",
          "text": [
            "[[651  25]\n",
            " [ 86 538]]\n"
          ],
          "name": "stdout"
        }
      ]
    },
    {
      "cell_type": "code",
      "metadata": {
        "id": "DaMwjat2p73O",
        "colab_type": "code",
        "colab": {
          "base_uri": "https://localhost:8080/",
          "height": 649
        },
        "outputId": "cddcb3b0-fd01-4b61-f069-4685e9549b28"
      },
      "source": [
        "cnf_matrix = confusion_matrix(y_val, y_hat, labels=[1,0])\n",
        "np.set_printoptions(precision=2)\n",
        "\n",
        "\n",
        "# Plot non-normalized confusion matrix\n",
        "plt.figure()\n",
        "plot_confusion_matrix(cnf_matrix, classes=['pois=1','pois=0'],normalize= False,  title='Confusion matrix')"
      ],
      "execution_count": 571,
      "outputs": [
        {
          "output_type": "stream",
          "text": [
            "Confusion matrix, without normalization\n",
            "[[538  86]\n",
            " [ 25 651]]\n"
          ],
          "name": "stdout"
        },
        {
          "output_type": "display_data",
          "data": {
            "image/png": "[encoded data removed]",
            "text/plain": [
              "<Figure size 720x576 with 2 Axes>"
            ]
          },
          "metadata": {
            "tags": []
          }
        }
      ]
    },
    {
      "cell_type": "code",
      "metadata": {
        "id": "6y6DxD6XrUBV",
        "colab_type": "code",
        "colab": {
          "base_uri": "https://localhost:8080/",
          "height": 170
        },
        "outputId": "e6b9cbd8-ccd6-4a83-86a2-a33c0a2f5751"
      },
      "source": [
        "# high precision, not so high recall is better\n",
        "print (classification_report(y_val, y_hat))"
      ],
      "execution_count": 572,
      "outputs": [
        {
          "output_type": "stream",
          "text": [
            "              precision    recall  f1-score   support\n",
            "\n",
            "           0       0.88      0.96      0.92       676\n",
            "           1       0.96      0.86      0.91       624\n",
            "\n",
            "    accuracy                           0.91      1300\n",
            "   macro avg       0.92      0.91      0.91      1300\n",
            "weighted avg       0.92      0.91      0.91      1300\n",
            "\n"
          ],
          "name": "stdout"
        }
      ]
    },
    {
      "cell_type": "code",
      "metadata": {
        "id": "dbO6MrkIlZIh",
        "colab_type": "code",
        "colab": {}
      },
      "source": [
        ""
      ],
      "execution_count": 0,
      "outputs": []
    },
    {
      "cell_type": "markdown",
      "metadata": {
        "id": "wRRy16IMlM0j",
        "colab_type": "text"
      },
      "source": [
        ""
      ]
    }
  ]
}